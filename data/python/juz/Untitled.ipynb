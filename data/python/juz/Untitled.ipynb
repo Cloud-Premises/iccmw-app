{
 "cells": [
  {
   "cell_type": "code",
   "execution_count": 1,
   "id": "a2bda913-1cbe-49b1-b216-5d8351da2ad2",
   "metadata": {},
   "outputs": [
    {
     "name": "stdout",
     "output_type": "stream",
     "text": [
      "juz.json has been updated successfully.\n"
     ]
    }
   ],
   "source": [
    "import json\n",
    "\n",
    "# Load `juzWithName.json`\n",
    "with open('juzWithName.json', 'r', encoding='utf-8') as file:\n",
    "    juz_with_name_data = json.load(file)\n",
    "\n",
    "# Load `juz.json`\n",
    "with open('juz.json', 'r', encoding='utf-8') as file:\n",
    "    juz_data = json.load(file)\n",
    "\n",
    "# Update `juz.json` data with fields from `juzWithName.json`\n",
    "for juz_entry in juz_data[\"juzs\"]:\n",
    "    # Find the corresponding entry in `juzWithName.json`\n",
    "    corresponding_juz = next((item for item in juz_with_name_data[\"juz\"] if item[\"verse_number\"] == juz_entry[\"juz_number\"]), None)\n",
    "    \n",
    "    # If a corresponding entry is found, copy the specified fields\n",
    "    if corresponding_juz:\n",
    "        juz_entry[\"name\"] = corresponding_juz[\"name\"]\n",
    "        juz_entry[\"arabic_title\"] = corresponding_juz[\"arabic_title\"]\n",
    "        juz_entry[\"sura_name\"] = corresponding_juz[\"sura_name\"]\n",
    "        juz_entry[\"end_sura_name\"] = corresponding_juz[\"end_sura_name\"]\n",
    "\n",
    "# Save the updated data to `juz.json`\n",
    "with open('juz.json', 'w', encoding='utf-8') as file:\n",
    "    json.dump(juz_data, file, ensure_ascii=False, indent=4)\n",
    "\n",
    "print(\"juz.json has been updated successfully.\")\n"
   ]
  },
  {
   "cell_type": "code",
   "execution_count": null,
   "id": "7a9f13be-6746-4be6-b031-c22e05aa3817",
   "metadata": {},
   "outputs": [],
   "source": []
  }
 ],
 "metadata": {
  "kernelspec": {
   "display_name": "Python 3 (ipykernel)",
   "language": "python",
   "name": "python3"
  },
  "language_info": {
   "codemirror_mode": {
    "name": "ipython",
    "version": 3
   },
   "file_extension": ".py",
   "mimetype": "text/x-python",
   "name": "python",
   "nbconvert_exporter": "python",
   "pygments_lexer": "ipython3",
   "version": "3.12.7"
  }
 },
 "nbformat": 4,
 "nbformat_minor": 5
}
