{
 "cells": [
  {
   "cell_type": "markdown",
   "id": "0dd8ae49",
   "metadata": {},
   "source": []
  },
  {
   "cell_type": "code",
   "execution_count": 7,
   "id": "3f9a6e19-7a69-4e0d-92f8-b177210b9d08",
   "metadata": {},
   "outputs": [
    {
     "ename": "FileNotFoundError",
     "evalue": "[Errno 2] No such file or directory: 'prayer_time.csv'",
     "output_type": "error",
     "traceback": [
      "\u001b[1;31m---------------------------------------------------------------------------\u001b[0m",
      "\u001b[1;31mFileNotFoundError\u001b[0m                         Traceback (most recent call last)",
      "Cell \u001b[1;32mIn[7], line 38\u001b[0m\n\u001b[0;32m     35\u001b[0m json_file \u001b[38;5;241m=\u001b[39m \u001b[38;5;124m\"\u001b[39m\u001b[38;5;124mprayer_time.json\u001b[39m\u001b[38;5;124m\"\u001b[39m\n\u001b[0;32m     37\u001b[0m \u001b[38;5;66;03m# Convert CSV to JSON\u001b[39;00m\n\u001b[1;32m---> 38\u001b[0m csv_to_json(csv_file, json_file)\n",
      "Cell \u001b[1;32mIn[7], line 6\u001b[0m, in \u001b[0;36mcsv_to_json\u001b[1;34m(csv_file, json_file)\u001b[0m\n\u001b[0;32m      4\u001b[0m \u001b[38;5;28;01mdef\u001b[39;00m \u001b[38;5;21mcsv_to_json\u001b[39m(csv_file, json_file):\n\u001b[0;32m      5\u001b[0m     \u001b[38;5;66;03m# Open the CSV file for reading\u001b[39;00m\n\u001b[1;32m----> 6\u001b[0m     \u001b[38;5;28;01mwith\u001b[39;00m \u001b[38;5;28mopen\u001b[39m(csv_file, mode\u001b[38;5;241m=\u001b[39m\u001b[38;5;124m'\u001b[39m\u001b[38;5;124mr\u001b[39m\u001b[38;5;124m'\u001b[39m) \u001b[38;5;28;01mas\u001b[39;00m file:\n\u001b[0;32m      7\u001b[0m         csv_reader \u001b[38;5;241m=\u001b[39m csv\u001b[38;5;241m.\u001b[39mDictReader(file)\n\u001b[0;32m      9\u001b[0m         \u001b[38;5;66;03m# Initialize the structure\u001b[39;00m\n",
      "File \u001b[1;32m~\\anaconda3\\Lib\\site-packages\\IPython\\core\\interactiveshell.py:324\u001b[0m, in \u001b[0;36m_modified_open\u001b[1;34m(file, *args, **kwargs)\u001b[0m\n\u001b[0;32m    317\u001b[0m \u001b[38;5;28;01mif\u001b[39;00m file \u001b[38;5;129;01min\u001b[39;00m {\u001b[38;5;241m0\u001b[39m, \u001b[38;5;241m1\u001b[39m, \u001b[38;5;241m2\u001b[39m}:\n\u001b[0;32m    318\u001b[0m     \u001b[38;5;28;01mraise\u001b[39;00m \u001b[38;5;167;01mValueError\u001b[39;00m(\n\u001b[0;32m    319\u001b[0m         \u001b[38;5;124mf\u001b[39m\u001b[38;5;124m\"\u001b[39m\u001b[38;5;124mIPython won\u001b[39m\u001b[38;5;124m'\u001b[39m\u001b[38;5;124mt let you open fd=\u001b[39m\u001b[38;5;132;01m{\u001b[39;00mfile\u001b[38;5;132;01m}\u001b[39;00m\u001b[38;5;124m by default \u001b[39m\u001b[38;5;124m\"\u001b[39m\n\u001b[0;32m    320\u001b[0m         \u001b[38;5;124m\"\u001b[39m\u001b[38;5;124mas it is likely to crash IPython. If you know what you are doing, \u001b[39m\u001b[38;5;124m\"\u001b[39m\n\u001b[0;32m    321\u001b[0m         \u001b[38;5;124m\"\u001b[39m\u001b[38;5;124myou can use builtins\u001b[39m\u001b[38;5;124m'\u001b[39m\u001b[38;5;124m open.\u001b[39m\u001b[38;5;124m\"\u001b[39m\n\u001b[0;32m    322\u001b[0m     )\n\u001b[1;32m--> 324\u001b[0m \u001b[38;5;28;01mreturn\u001b[39;00m io_open(file, \u001b[38;5;241m*\u001b[39margs, \u001b[38;5;241m*\u001b[39m\u001b[38;5;241m*\u001b[39mkwargs)\n",
      "\u001b[1;31mFileNotFoundError\u001b[0m: [Errno 2] No such file or directory: 'prayer_time.csv'"
     ]
    }
   ],
   "source": [
    "import csv\n",
    "import json\n",
    "\n",
    "def csv_to_json(csv_file, json_file):\n",
    "    # Open the CSV file for reading\n",
    "    with open(csv_file, mode='r') as file:\n",
    "        csv_reader = csv.DictReader(file)\n",
    "        \n",
    "        # Initialize the structure\n",
    "        data = {\"November\": []}\n",
    "        \n",
    "        # Process each row in the CSV\n",
    "        for row in csv_reader:\n",
    "            if row[\"Day\"] == \"DLS JU-AW 1\":  # Skip daylight saving adjustment row\n",
    "                continue\n",
    "            \n",
    "            # Construct the JSON structure for each row\n",
    "            prayer_times = {\n",
    "                \"Date\": row[\"Day\"],\n",
    "                \"Fajr Adhaan\": row[\"Fajr Adhaan\"],\n",
    "                \"Sunrise\": row[\"Sunrise\"],\n",
    "                \"Dhuhr Adhaan\": row[\"Dhuhr Adhaan\"],\n",
    "                \"Asr Adhaan\": row[\"Asr 1\"],\n",
    "                \"Maghrib Adhaan\": row[\"Maghrib\"],\n",
    "                \"Isha Adhaan\": row[\"Isha\"]\n",
    "            }\n",
    "            data[\"November\"].append(prayer_times)\n",
    "        \n",
    "        # Write the structured data to a JSON file\n",
    "        with open(json_file, mode='w') as json_file:\n",
    "            json.dump(data, json_file, indent=4)\n",
    "\n",
    "# File paths\n",
    "csv_file = \"prayer_time.csv\"\n",
    "json_file = \"prayer_times.json\"\n",
    "\n",
    "# Convert CSV to JSON\n",
    "csv_to_json(csv_file, json_file)\n"
   ]
  },
  {
   "cell_type": "code",
   "execution_count": null,
   "id": "2f73467a-ab87-4631-9a4f-811a232f12dc",
   "metadata": {},
   "outputs": [],
   "source": []
  }
 ],
 "metadata": {
  "kernelspec": {
   "display_name": "Python 3 (ipykernel)",
   "language": "python",
   "name": "python3"
  },
  "language_info": {
   "codemirror_mode": {
    "name": "ipython",
    "version": 3
   },
   "file_extension": ".py",
   "mimetype": "text/x-python",
   "name": "python",
   "nbconvert_exporter": "python",
   "pygments_lexer": "ipython3",
   "version": "3.12.7"
  }
 },
 "nbformat": 4,
 "nbformat_minor": 5
}
