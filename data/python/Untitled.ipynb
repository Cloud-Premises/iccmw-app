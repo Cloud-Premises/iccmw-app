{
 "cells": [
  {
   "cell_type": "code",
   "execution_count": 25,
   "id": "56bf487e-fcbc-4c23-b159-9ce570cb90f3",
   "metadata": {},
   "outputs": [
    {
     "name": "stdout",
     "output_type": "stream",
     "text": [
      "Successfully saved translation 85 to translations\\85.json\n",
      "Successfully saved translation 131 to translations\\131.json\n",
      "Successfully saved translation 84 to translations\\84.json\n",
      "Successfully saved translation 95 to translations\\95.json\n",
      "Successfully saved translation 19 to translations\\19.json\n",
      "Successfully saved translation 22 to translations\\22.json\n",
      "Successfully saved translation 20 to translations\\20.json\n",
      "Successfully saved translation 203 to translations\\203.json\n",
      "Successfully saved translation 57 to translations\\57.json\n"
     ]
    }
   ],
   "source": [
    "import json\n",
    "import requests\n",
    "import os\n",
    "\n",
    "# Define the path to the translations_resources.json file\n",
    "json_file_path = 'translations_resources.json'\n",
    "\n",
    "# Read the translations from the JSON file\n",
    "with open(json_file_path, 'r') as file:\n",
    "    data = json.load(file)\n",
    "\n",
    "# Ensure the output directory exists\n",
    "output_dir = 'translations'\n",
    "os.makedirs(output_dir, exist_ok=True)\n",
    "\n",
    "# Loop through each translation and make the GET request\n",
    "for translation in data['translations']:\n",
    "    translation_id = translation['id']\n",
    "    # Construct the API URL using the translation ID\n",
    "    url = f'https://api.quran.com/api/v4/quran/translations/{translation_id}'\n",
    "    \n",
    "    # Make the GET request\n",
    "    response = requests.get(url, headers={'Accept': 'application/json'})\n",
    "    \n",
    "    # Check if the request was successful\n",
    "    if response.status_code == 200:\n",
    "        # Save the JSON response to a file named by the translation ID\n",
    "        output_file_path = os.path.join(output_dir, f'{translation_id}.json')\n",
    "        with open(output_file_path, 'w') as output_file:\n",
    "            json.dump(response.json(), output_file, indent=4)\n",
    "        print(f'Successfully saved translation {translation_id} to {output_file_path}')\n",
    "    else:\n",
    "        print(f'Failed to retrieve translation {translation_id}: {response.status_code} - {response.text}')\n"
   ]
  },
  {
   "cell_type": "code",
   "execution_count": 27,
   "id": "19aec811-a1c3-41c6-b4c7-8129d4c6663c",
   "metadata": {},
   "outputs": [
    {
     "name": "stdout",
     "output_type": "stream",
     "text": [
      "Updated translations\\131.json with id and verse_key for each translation.\n",
      "Updated translations\\19.json with id and verse_key for each translation.\n",
      "Updated translations\\20.json with id and verse_key for each translation.\n",
      "Updated translations\\203.json with id and verse_key for each translation.\n",
      "Updated translations\\22.json with id and verse_key for each translation.\n",
      "Updated translations\\57.json with id and verse_key for each translation.\n",
      "Updated translations\\84.json with id and verse_key for each translation.\n",
      "Updated translations\\85.json with id and verse_key for each translation.\n",
      "Updated translations\\95.json with id and verse_key for each translation.\n"
     ]
    }
   ],
   "source": [
    "import json\n",
    "import os\n",
    "\n",
    "# Define paths to files and directories\n",
    "imlaei_file_path = 'imlaei.json'\n",
    "translations_dir = 'translations'\n",
    "\n",
    "# Load data from imlaei.json\n",
    "with open(imlaei_file_path, 'r', encoding='utf-8') as imlaei_file:\n",
    "    imlaei_data = json.load(imlaei_file)\n",
    "\n",
    "# Extract the verses data with id and verse_key from imlaei.json\n",
    "verses = imlaei_data['verses']\n",
    "\n",
    "# Update each translation JSON file in the translations directory\n",
    "for translation_file in os.listdir(translations_dir):\n",
    "    # Construct the full path for the translation file\n",
    "    translation_file_path = os.path.join(translations_dir, translation_file)\n",
    "    \n",
    "    # Load the translation data\n",
    "    with open(translation_file_path, 'r', encoding='utf-8') as file:\n",
    "        translation_data = json.load(file)\n",
    "    \n",
    "    # Update each translation entry with id and verse_key\n",
    "    for i, translation in enumerate(translation_data['translations']):\n",
    "        if i < len(verses):  # Make sure we have enough verses to match\n",
    "            translation['id'] = verses[i]['id']\n",
    "            translation['verse_key'] = verses[i]['verse_key']\n",
    "    \n",
    "    # Save the updated translation data back to the file\n",
    "    with open(translation_file_path, 'w', encoding='utf-8') as file:\n",
    "        json.dump(translation_data, file, ensure_ascii=False, indent=4)\n",
    "    \n",
    "    print(f'Updated {translation_file_path} with id and verse_key for each translation.')\n"
   ]
  },
  {
   "cell_type": "code",
   "execution_count": null,
   "id": "b14f1c1a-90a3-4742-9605-750868f70ce6",
   "metadata": {},
   "outputs": [],
   "source": []
  }
 ],
 "metadata": {
  "kernelspec": {
   "display_name": "Python 3 (ipykernel)",
   "language": "python",
   "name": "python3"
  },
  "language_info": {
   "codemirror_mode": {
    "name": "ipython",
    "version": 3
   },
   "file_extension": ".py",
   "mimetype": "text/x-python",
   "name": "python",
   "nbconvert_exporter": "python",
   "pygments_lexer": "ipython3",
   "version": "3.12.7"
  }
 },
 "nbformat": 4,
 "nbformat_minor": 5
}
